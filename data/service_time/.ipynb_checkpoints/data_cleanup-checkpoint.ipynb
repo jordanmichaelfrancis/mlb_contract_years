{
 "cells": [
  {
   "cell_type": "code",
   "execution_count": 53,
   "metadata": {},
   "outputs": [],
   "source": [
    "import os, re\n",
    "import pandas as pd\n",
    "%run ./service_time/service_time_id_override.py\n",
    "\n",
    "WORKING_DIR_LOC = './service_time/'\n",
    "CSV_FOLDER_LOC = 'cleaned_files/'\n",
    "FILE_LOC = './baseballdatabank-2019.2/core/People.csv'\n",
    "\n",
    "def get_service_time_df(path_str, file_str):\n",
    "    service_time_df = pd.read_csv(path_str + file_str)\n",
    "    year_series = pd.Series([int(file_str[0:4])] * service_time_df.shape[0])\n",
    "    service_time_df['year'] = year_series\n",
    "    service_time_df = service_time_df.set_index('Player')\n",
    "    try:\n",
    "        service_time_df = service_time_df.drop('Club', axis=1)\n",
    "    except:\n",
    "        pass\n",
    "    return(service_time_df)\n",
    "\n",
    "df_list = [get_service_time_df(FOLDER_LOC, file) for file in file_list]\n",
    "service_time_df = pd.concat(df_list)\n",
    "people_df = pd.read_csv(FILE_LOC)\n",
    "people_df = people_df.set_index(people_df['nameLast'] + ',' + people_df['nameFirst'])\n",
    "\n",
    "def get_playerID_from_df(index):\n",
    "    try:\n",
    "        player_id = people_df.loc[index, 'playerID']\n",
    "    except:\n",
    "        return(None)\n",
    "    if not isinstance(player_id, str):\n",
    "        final_game_dates = people_df.loc[index, 'finalGame']\n",
    "        is_playing_list = [int(date[0:4]) > 2005 for date in final_game_dates]\n",
    "        if sum(is_playing_list)>1: \n",
    "            return(service_time_overrides[index])\n",
    "        player_id = people_df.loc[index, 'playerID'][is_playing_list][0]\n",
    "    return(player_id)\n",
    "\n",
    "file_list = os.listdir(WORKING_DIR_LOC+CSV_FOLDER_LOC)\n",
    "\n",
    "service_time_df = service_time_df[service_time_df['service_time']>6]\n",
    "\n",
    "#TODO: Fix Jr. and Intitials matching in Join\n",
    "names_to_match_org = set(service_time_df.index.values)\n",
    "names_to_match = list(map(lambda x: re.sub('([A-Z]{1}[.])([A-Z]{1}[.])', r\"\\1 \\2\", x), names_to_match_org))\n",
    "names_to_match = list(map(lambda x: re.sub(' Jr.', '', x), names_to_match))\n",
    "IDs = {name: [get_playerID_from_df(name)] for name in set(names_to_match)}\n",
    "IDs_df = pd.DataFrame.from_dict(IDs, orient='index')\n",
    "IDs_df.columns = ['playerID']\n",
    "service_time_with_IDs_df = service_time_df.join(IDs_df)\n",
    "service_time_with_IDs_df.to_csv(WORKING_DIR_LOC+'service_time.csv')"
   ]
  },
  {
   "cell_type": "code",
   "execution_count": 54,
   "metadata": {},
   "outputs": [
    {
     "name": "stdout",
     "output_type": "stream",
     "text": [
      "0 names with multiple players\n",
      "0 names with no match\n",
      "[]\n",
      "[]\n"
     ]
    }
   ],
   "source": [
    "two_players = [key for key in IDs.keys() if IDs[key] == 'Same Time']\n",
    "no_match = [key for key in IDs.keys() if IDs[key] == None]\n",
    "\n",
    "print('{} names with multiple players'.format(len(two_players)))\n",
    "print('{} names with no match'.format(len(no_match)))\n",
    "\n",
    "print(two_players)\n",
    "print(no_match)"
   ]
  },
  {
   "cell_type": "code",
   "execution_count": 62,
   "metadata": {},
   "outputs": [
    {
     "data": {
      "text/plain": [
       "playerID    younger03\n",
       "Name: Young,Eric, dtype: object"
      ]
     },
     "execution_count": 62,
     "metadata": {},
     "output_type": "execute_result"
    }
   ],
   "source": [
    "IDs_df.loc['Young,Eric']"
   ]
  }
 ],
 "metadata": {
  "kernelspec": {
   "display_name": "Python 3",
   "language": "python",
   "name": "python3"
  },
  "language_info": {
   "codemirror_mode": {
    "name": "ipython",
    "version": 3
   },
   "file_extension": ".py",
   "mimetype": "text/x-python",
   "name": "python",
   "nbconvert_exporter": "python",
   "pygments_lexer": "ipython3",
   "version": "3.7.4"
  }
 },
 "nbformat": 4,
 "nbformat_minor": 2
}
