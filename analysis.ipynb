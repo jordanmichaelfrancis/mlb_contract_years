{
 "cells": [
  {
   "cell_type": "markdown",
   "metadata": {},
   "source": [
    "# Do MLB Players Perform Better In Their Contract Year?\n",
    "\n",
    "In this notebook, I'll analyze the data set we put together in [data_prep](data_prep.ipynb) notebook. If you have not looked through that notebook yet, please do so!\n",
    "\n",
    "Here, I am going to test whether MLB players perform better in their \"contract year\". The question [has been asked before](https://sabr.org/research/do-hitters-boost-their-performance-during-their-contract-years) in [multiple sports](https://www.espn.com/fantasy/football/story/_/id/13248280/nfl-skill-players-overwhelmingly-perform-better-contract-years-fantasy-football), and while my approach is not as sophisticated as some, I do have data updated for last last labor agreement (2012-2016)."
   ]
  },
  {
   "cell_type": "code",
   "execution_count": 16,
   "metadata": {},
   "outputs": [],
   "source": [
    "from scipy import stats\n",
    "import pandas as pd\n",
    "import matplotlib.pyplot as plt\n",
    "import statsmodels.api as sm\n",
    "from statsmodels.stats.outliers_influence import variance_inflation_factor\n",
    "%run functions.py"
   ]
  },
  {
   "cell_type": "markdown",
   "metadata": {},
   "source": [
    "Let's start by importing our data prepared in the [data_prep notebook](data_prep.ipynb)."
   ]
  },
  {
   "cell_type": "code",
   "execution_count": 17,
   "metadata": {
    "scrolled": true
   },
   "outputs": [
    {
     "data": {
      "text/html": [
       "<div>\n",
       "<style scoped>\n",
       "    .dataframe tbody tr th:only-of-type {\n",
       "        vertical-align: middle;\n",
       "    }\n",
       "\n",
       "    .dataframe tbody tr th {\n",
       "        vertical-align: top;\n",
       "    }\n",
       "\n",
       "    .dataframe thead th {\n",
       "        text-align: right;\n",
       "    }\n",
       "</style>\n",
       "<table border=\"1\" class=\"dataframe\">\n",
       "  <thead>\n",
       "    <tr style=\"text-align: right;\">\n",
       "      <th></th>\n",
       "      <th>G</th>\n",
       "      <th>AB</th>\n",
       "      <th>R</th>\n",
       "      <th>H</th>\n",
       "      <th>2B</th>\n",
       "      <th>3B</th>\n",
       "      <th>HR</th>\n",
       "      <th>RBI</th>\n",
       "      <th>SB</th>\n",
       "      <th>CS</th>\n",
       "      <th>...</th>\n",
       "      <th>year_wOBA</th>\n",
       "      <th>year_wOBAScale</th>\n",
       "      <th>wOBA</th>\n",
       "      <th>wRAA</th>\n",
       "      <th>wRC+</th>\n",
       "      <th>wRC+_t-1</th>\n",
       "      <th>is_signed</th>\n",
       "      <th>is_unsigned</th>\n",
       "      <th>is_fa</th>\n",
       "      <th>service_time</th>\n",
       "    </tr>\n",
       "  </thead>\n",
       "  <tbody>\n",
       "    <tr>\n",
       "      <td>abadan01_2006</td>\n",
       "      <td>5.0</td>\n",
       "      <td>3.0</td>\n",
       "      <td>0.0</td>\n",
       "      <td>0.0</td>\n",
       "      <td>0.0</td>\n",
       "      <td>0.0</td>\n",
       "      <td>0.0</td>\n",
       "      <td>0.0</td>\n",
       "      <td>0.0</td>\n",
       "      <td>0.0</td>\n",
       "      <td>...</td>\n",
       "      <td>0.332</td>\n",
       "      <td>1.170</td>\n",
       "      <td>0.283200</td>\n",
       "      <td>-0.208547</td>\n",
       "      <td>62.526106</td>\n",
       "      <td>NaN</td>\n",
       "      <td>True</td>\n",
       "      <td>False</td>\n",
       "      <td>True</td>\n",
       "      <td>NaN</td>\n",
       "    </tr>\n",
       "    <tr>\n",
       "      <td>abercre01_2006</td>\n",
       "      <td>111.0</td>\n",
       "      <td>255.0</td>\n",
       "      <td>39.0</td>\n",
       "      <td>54.0</td>\n",
       "      <td>12.0</td>\n",
       "      <td>2.0</td>\n",
       "      <td>5.0</td>\n",
       "      <td>24.0</td>\n",
       "      <td>6.0</td>\n",
       "      <td>5.0</td>\n",
       "      <td>...</td>\n",
       "      <td>0.332</td>\n",
       "      <td>1.170</td>\n",
       "      <td>0.263800</td>\n",
       "      <td>-16.379658</td>\n",
       "      <td>53.701099</td>\n",
       "      <td>NaN</td>\n",
       "      <td>False</td>\n",
       "      <td>False</td>\n",
       "      <td>False</td>\n",
       "      <td>NaN</td>\n",
       "    </tr>\n",
       "    <tr>\n",
       "      <td>abercre01_2007</td>\n",
       "      <td>35.0</td>\n",
       "      <td>76.0</td>\n",
       "      <td>16.0</td>\n",
       "      <td>15.0</td>\n",
       "      <td>3.0</td>\n",
       "      <td>0.0</td>\n",
       "      <td>2.0</td>\n",
       "      <td>5.0</td>\n",
       "      <td>7.0</td>\n",
       "      <td>1.0</td>\n",
       "      <td>...</td>\n",
       "      <td>0.331</td>\n",
       "      <td>1.192</td>\n",
       "      <td>0.245262</td>\n",
       "      <td>-5.754195</td>\n",
       "      <td>41.056586</td>\n",
       "      <td>53.701099</td>\n",
       "      <td>False</td>\n",
       "      <td>False</td>\n",
       "      <td>False</td>\n",
       "      <td>NaN</td>\n",
       "    </tr>\n",
       "    <tr>\n",
       "      <td>abercre01_2008</td>\n",
       "      <td>34.0</td>\n",
       "      <td>55.0</td>\n",
       "      <td>10.0</td>\n",
       "      <td>17.0</td>\n",
       "      <td>5.0</td>\n",
       "      <td>0.0</td>\n",
       "      <td>2.0</td>\n",
       "      <td>5.0</td>\n",
       "      <td>5.0</td>\n",
       "      <td>2.0</td>\n",
       "      <td>...</td>\n",
       "      <td>0.328</td>\n",
       "      <td>1.211</td>\n",
       "      <td>0.364220</td>\n",
       "      <td>1.794567</td>\n",
       "      <td>121.270452</td>\n",
       "      <td>41.056586</td>\n",
       "      <td>True</td>\n",
       "      <td>False</td>\n",
       "      <td>True</td>\n",
       "      <td>NaN</td>\n",
       "    </tr>\n",
       "    <tr>\n",
       "      <td>abreubo01_2006</td>\n",
       "      <td>156.0</td>\n",
       "      <td>548.0</td>\n",
       "      <td>98.0</td>\n",
       "      <td>163.0</td>\n",
       "      <td>41.0</td>\n",
       "      <td>2.0</td>\n",
       "      <td>15.0</td>\n",
       "      <td>107.0</td>\n",
       "      <td>30.0</td>\n",
       "      <td>6.0</td>\n",
       "      <td>...</td>\n",
       "      <td>0.332</td>\n",
       "      <td>1.170</td>\n",
       "      <td>0.387537</td>\n",
       "      <td>32.562645</td>\n",
       "      <td>131.995358</td>\n",
       "      <td>NaN</td>\n",
       "      <td>False</td>\n",
       "      <td>False</td>\n",
       "      <td>False</td>\n",
       "      <td>9.165</td>\n",
       "    </tr>\n",
       "  </tbody>\n",
       "</table>\n",
       "<p>5 rows × 49 columns</p>\n",
       "</div>"
      ],
      "text/plain": [
       "                    G     AB     R      H    2B   3B    HR    RBI    SB   CS  \\\n",
       "abadan01_2006     5.0    3.0   0.0    0.0   0.0  0.0   0.0    0.0   0.0  0.0   \n",
       "abercre01_2006  111.0  255.0  39.0   54.0  12.0  2.0   5.0   24.0   6.0  5.0   \n",
       "abercre01_2007   35.0   76.0  16.0   15.0   3.0  0.0   2.0    5.0   7.0  1.0   \n",
       "abercre01_2008   34.0   55.0  10.0   17.0   5.0  0.0   2.0    5.0   5.0  2.0   \n",
       "abreubo01_2006  156.0  548.0  98.0  163.0  41.0  2.0  15.0  107.0  30.0  6.0   \n",
       "\n",
       "                ...  year_wOBA  year_wOBAScale      wOBA       wRAA  \\\n",
       "abadan01_2006   ...      0.332           1.170  0.283200  -0.208547   \n",
       "abercre01_2006  ...      0.332           1.170  0.263800 -16.379658   \n",
       "abercre01_2007  ...      0.331           1.192  0.245262  -5.754195   \n",
       "abercre01_2008  ...      0.328           1.211  0.364220   1.794567   \n",
       "abreubo01_2006  ...      0.332           1.170  0.387537  32.562645   \n",
       "\n",
       "                      wRC+   wRC+_t-1  is_signed  is_unsigned  is_fa  \\\n",
       "abadan01_2006    62.526106        NaN       True        False   True   \n",
       "abercre01_2006   53.701099        NaN      False        False  False   \n",
       "abercre01_2007   41.056586  53.701099      False        False  False   \n",
       "abercre01_2008  121.270452  41.056586       True        False   True   \n",
       "abreubo01_2006  131.995358        NaN      False        False  False   \n",
       "\n",
       "                service_time  \n",
       "abadan01_2006            NaN  \n",
       "abercre01_2006           NaN  \n",
       "abercre01_2007           NaN  \n",
       "abercre01_2008           NaN  \n",
       "abreubo01_2006         9.165  \n",
       "\n",
       "[5 rows x 49 columns]"
      ]
     },
     "execution_count": 17,
     "metadata": {},
     "output_type": "execute_result"
    }
   ],
   "source": [
    "batting_df = pd.read_csv(FILE_LOCS['dataset'], index_col=0)\n",
    "batting_df.head()"
   ]
  },
  {
   "cell_type": "markdown",
   "metadata": {},
   "source": [
    "Now that we have our data imported, we can do some descriptive statistics to explore our dataset. I am going to start by limiting the time period to the last labor agreement, since player incentives change depending on rules outlined in the  Collective Bargaining Agreement (CBA). By eliminating confounding factors like different CBA rules, we ensure that our results are due to a player's impending free agency and not another variable. \n",
    "\n",
    "I am also going to limit myself to players-seasons with at least 502 plate appearances. That might seem like an arbitrary number to some, but it's [MLB's offical number to qualify for a batting title](https://www.baseball-reference.com/bullpen/Qualifier). \n",
    "\n",
    "This is going to limit our dataset quite a bit, but we need to keep in mind what the average fan means when they talk about the [\"contract year phenomenon\"](https://en.wikipedia.org/wiki/Contract_year_phenomenon). We are usually refering to players who have a chance at huge sums of money. Some elite players might still have a shot a big contract even if they get injured, but typically, a player needs to (1) be healthy to recieve a large contract and (2) have a starting position on a team.\n",
    "\n",
    "Below, I've calculated descriptive statistics and a histogram of the wRC+ for both free agents and everyone else."
   ]
  },
  {
   "cell_type": "code",
   "execution_count": 18,
   "metadata": {},
   "outputs": [
    {
     "data": {
      "text/html": [
       "<div>\n",
       "<style scoped>\n",
       "    .dataframe tbody tr th:only-of-type {\n",
       "        vertical-align: middle;\n",
       "    }\n",
       "\n",
       "    .dataframe tbody tr th {\n",
       "        vertical-align: top;\n",
       "    }\n",
       "\n",
       "    .dataframe thead th {\n",
       "        text-align: right;\n",
       "    }\n",
       "</style>\n",
       "<table border=\"1\" class=\"dataframe\">\n",
       "  <thead>\n",
       "    <tr style=\"text-align: right;\">\n",
       "      <th></th>\n",
       "      <th>FAs</th>\n",
       "      <th>Else</th>\n",
       "    </tr>\n",
       "  </thead>\n",
       "  <tbody>\n",
       "    <tr>\n",
       "      <td>count</td>\n",
       "      <td>77.000000</td>\n",
       "      <td>639.000000</td>\n",
       "    </tr>\n",
       "    <tr>\n",
       "      <td>mean</td>\n",
       "      <td>111.434836</td>\n",
       "      <td>111.892888</td>\n",
       "    </tr>\n",
       "    <tr>\n",
       "      <td>std</td>\n",
       "      <td>19.542368</td>\n",
       "      <td>22.842286</td>\n",
       "    </tr>\n",
       "    <tr>\n",
       "      <td>min</td>\n",
       "      <td>62.664277</td>\n",
       "      <td>49.659276</td>\n",
       "    </tr>\n",
       "    <tr>\n",
       "      <td>25%</td>\n",
       "      <td>95.744898</td>\n",
       "      <td>97.113445</td>\n",
       "    </tr>\n",
       "    <tr>\n",
       "      <td>50%</td>\n",
       "      <td>110.195574</td>\n",
       "      <td>110.610681</td>\n",
       "    </tr>\n",
       "    <tr>\n",
       "      <td>75%</td>\n",
       "      <td>125.843770</td>\n",
       "      <td>125.586389</td>\n",
       "    </tr>\n",
       "    <tr>\n",
       "      <td>max</td>\n",
       "      <td>167.984959</td>\n",
       "      <td>197.559182</td>\n",
       "    </tr>\n",
       "  </tbody>\n",
       "</table>\n",
       "</div>"
      ],
      "text/plain": [
       "              FAs        Else\n",
       "count   77.000000  639.000000\n",
       "mean   111.434836  111.892888\n",
       "std     19.542368   22.842286\n",
       "min     62.664277   49.659276\n",
       "25%     95.744898   97.113445\n",
       "50%    110.195574  110.610681\n",
       "75%    125.843770  125.586389\n",
       "max    167.984959  197.559182"
      ]
     },
     "execution_count": 18,
     "metadata": {},
     "output_type": "execute_result"
    }
   ],
   "source": [
    "min_ABs = batting_df[(batting_df['PA']>=502) &\n",
    "                     (batting_df['yearID']>=2012) &\n",
    "                     (batting_df['yearID']<=2016)]\n",
    "FAs = min_ABs[min_ABs['is_fa']]\n",
    "everyone_else = min_ABs[~min_ABs['is_fa']]\n",
    "\n",
    "summarize_dfs(FAs, everyone_else, output_names=['FAs', 'Else'])"
   ]
  },
  {
   "cell_type": "code",
   "execution_count": 19,
   "metadata": {
    "scrolled": true
   },
   "outputs": [
    {
     "data": {
      "image/png": "[encoded data removed]",
      "text/plain": [
       "<Figure size 432x288 with 1 Axes>"
      ]
     },
     "metadata": {
      "needs_background": "light"
     },
     "output_type": "display_data"
    }
   ],
   "source": [
    "plot_histogram(FAs, everyone_else)"
   ]
  },
  {
   "cell_type": "markdown",
   "metadata": {},
   "source": [
    "Our two groups look nearly identical, but there are more confounders to consider. For example, we have included players with less than 6 years of [service time](http://m.mlb.com/glossary/transactions/service-time) in the \"Everyone Else\" group. That means our \"Free Agent\" group contains more seasoned players.\n",
    "\n",
    "By removing players with less than 6 years of service time from \"Everyone Else\", we can ensure that we are comparing like players."
   ]
  },
  {
   "cell_type": "code",
   "execution_count": 20,
   "metadata": {},
   "outputs": [
    {
     "data": {
      "text/html": [
       "<div>\n",
       "<style scoped>\n",
       "    .dataframe tbody tr th:only-of-type {\n",
       "        vertical-align: middle;\n",
       "    }\n",
       "\n",
       "    .dataframe tbody tr th {\n",
       "        vertical-align: top;\n",
       "    }\n",
       "\n",
       "    .dataframe thead th {\n",
       "        text-align: right;\n",
       "    }\n",
       "</style>\n",
       "<table border=\"1\" class=\"dataframe\">\n",
       "  <thead>\n",
       "    <tr style=\"text-align: right;\">\n",
       "      <th></th>\n",
       "      <th>FAs</th>\n",
       "      <th>Else</th>\n",
       "    </tr>\n",
       "  </thead>\n",
       "  <tbody>\n",
       "    <tr>\n",
       "      <td>count</td>\n",
       "      <td>77.000000</td>\n",
       "      <td>249.000000</td>\n",
       "    </tr>\n",
       "    <tr>\n",
       "      <td>mean</td>\n",
       "      <td>111.434836</td>\n",
       "      <td>114.624947</td>\n",
       "    </tr>\n",
       "    <tr>\n",
       "      <td>std</td>\n",
       "      <td>19.542368</td>\n",
       "      <td>21.441678</td>\n",
       "    </tr>\n",
       "    <tr>\n",
       "      <td>min</td>\n",
       "      <td>62.664277</td>\n",
       "      <td>66.328665</td>\n",
       "    </tr>\n",
       "    <tr>\n",
       "      <td>25%</td>\n",
       "      <td>95.744898</td>\n",
       "      <td>100.576564</td>\n",
       "    </tr>\n",
       "    <tr>\n",
       "      <td>50%</td>\n",
       "      <td>110.195574</td>\n",
       "      <td>113.407859</td>\n",
       "    </tr>\n",
       "    <tr>\n",
       "      <td>75%</td>\n",
       "      <td>125.843770</td>\n",
       "      <td>128.595875</td>\n",
       "    </tr>\n",
       "    <tr>\n",
       "      <td>max</td>\n",
       "      <td>167.984959</td>\n",
       "      <td>193.010332</td>\n",
       "    </tr>\n",
       "  </tbody>\n",
       "</table>\n",
       "</div>"
      ],
      "text/plain": [
       "              FAs        Else\n",
       "count   77.000000  249.000000\n",
       "mean   111.434836  114.624947\n",
       "std     19.542368   21.441678\n",
       "min     62.664277   66.328665\n",
       "25%     95.744898  100.576564\n",
       "50%    110.195574  113.407859\n",
       "75%    125.843770  128.595875\n",
       "max    167.984959  193.010332"
      ]
     },
     "execution_count": 20,
     "metadata": {},
     "output_type": "execute_result"
    }
   ],
   "source": [
    "min_st = min_ABs[(min_ABs['PA']>=502)]\n",
    "FAs = min_st[min_st['is_fa']]\n",
    "everyone_else = min_st[~min_st['is_fa'] & (min_ABs['service_time']>6)]\n",
    "\n",
    "summarize_dfs(FAs, everyone_else, output_names=['FAs', 'Else'])"
   ]
  },
  {
   "cell_type": "code",
   "execution_count": 21,
   "metadata": {},
   "outputs": [
    {
     "data": {
      "image/png": "[encoded data removed]",
      "text/plain": [
       "<Figure size 432x288 with 1 Axes>"
      ]
     },
     "metadata": {
      "needs_background": "light"
     },
     "output_type": "display_data"
    }
   ],
   "source": [
    "plot_histogram(FAs, everyone_else)"
   ]
  },
  {
   "cell_type": "markdown",
   "metadata": {},
   "source": [
    "The mean wRC+ for \"Everyone Else\" jumped a bit, and in that group, our n decreased by over half! It makes intuitive sense that more seasoned players are better, so we should not be suprised by the result.\n",
    "\n",
    "However, a t-test will confirm whether our groups are statistically different. Our null hypothesis is that these groups are the same. If we run a t-test where the pvalue is below our alpha of 0.05, we could determine that our dependent variable (service time) is truly the reason for the difference (with 95% confidence). Let's try it!"
   ]
  },
  {
   "cell_type": "code",
   "execution_count": 22,
   "metadata": {},
   "outputs": [
    {
     "data": {
      "text/plain": [
       "Ttest_indResult(statistic=-1.2227978827087123, pvalue=0.22350102843717187)"
      ]
     },
     "execution_count": 22,
     "metadata": {},
     "output_type": "execute_result"
    }
   ],
   "source": [
    "stats.ttest_ind(FAs['wRC+'], everyone_else['wRC+'], equal_var=False)"
   ]
  },
  {
   "cell_type": "markdown",
   "metadata": {},
   "source": [
    "The difference between the two groups is not statistically significant after all, since:\n",
    "\n",
    "> pvalue: 0.2235 > alpha: 0.05\n",
    "\n",
    "We can chalk up the wRC+ increase to random chance.\n",
    "\n",
    "Still, we have a pretty big flaw in our data set. The \"is_fa\" variable does not capture players that have retired. Retirement is tricky. In some cases, a player's retirment is planned, but some players are forced into retirement due to a performance drop off.\n",
    "\n",
    "Unfortunately, I do not have a database for player retirements, but I do have dummy variables called \"is_signed\" and \"is_unsigned\". In order to ensure we exclude retired players, we can filter by \"is_signed\", but we will inevitably exclude some players who did not plan to retire.\n",
    "\n",
    "I am going to make this trade-off in my analysis, but we should keep this in mind when interpret our results."
   ]
  },
  {
   "cell_type": "code",
   "execution_count": 23,
   "metadata": {},
   "outputs": [
    {
     "data": {
      "text/html": [
       "<div>\n",
       "<style scoped>\n",
       "    .dataframe tbody tr th:only-of-type {\n",
       "        vertical-align: middle;\n",
       "    }\n",
       "\n",
       "    .dataframe tbody tr th {\n",
       "        vertical-align: top;\n",
       "    }\n",
       "\n",
       "    .dataframe thead th {\n",
       "        text-align: right;\n",
       "    }\n",
       "</style>\n",
       "<table border=\"1\" class=\"dataframe\">\n",
       "  <thead>\n",
       "    <tr style=\"text-align: right;\">\n",
       "      <th></th>\n",
       "      <th>FAs</th>\n",
       "      <th>Else</th>\n",
       "    </tr>\n",
       "  </thead>\n",
       "  <tbody>\n",
       "    <tr>\n",
       "      <td>count</td>\n",
       "      <td>70.000000</td>\n",
       "      <td>249.000000</td>\n",
       "    </tr>\n",
       "    <tr>\n",
       "      <td>mean</td>\n",
       "      <td>112.940056</td>\n",
       "      <td>114.624947</td>\n",
       "    </tr>\n",
       "    <tr>\n",
       "      <td>std</td>\n",
       "      <td>19.462865</td>\n",
       "      <td>21.441678</td>\n",
       "    </tr>\n",
       "    <tr>\n",
       "      <td>min</td>\n",
       "      <td>62.664277</td>\n",
       "      <td>66.328665</td>\n",
       "    </tr>\n",
       "    <tr>\n",
       "      <td>25%</td>\n",
       "      <td>98.694191</td>\n",
       "      <td>100.576564</td>\n",
       "    </tr>\n",
       "    <tr>\n",
       "      <td>50%</td>\n",
       "      <td>111.411659</td>\n",
       "      <td>113.407859</td>\n",
       "    </tr>\n",
       "    <tr>\n",
       "      <td>75%</td>\n",
       "      <td>126.864842</td>\n",
       "      <td>128.595875</td>\n",
       "    </tr>\n",
       "    <tr>\n",
       "      <td>max</td>\n",
       "      <td>167.984959</td>\n",
       "      <td>193.010332</td>\n",
       "    </tr>\n",
       "  </tbody>\n",
       "</table>\n",
       "</div>"
      ],
      "text/plain": [
       "              FAs        Else\n",
       "count   70.000000  249.000000\n",
       "mean   112.940056  114.624947\n",
       "std     19.462865   21.441678\n",
       "min     62.664277   66.328665\n",
       "25%     98.694191  100.576564\n",
       "50%    111.411659  113.407859\n",
       "75%    126.864842  128.595875\n",
       "max    167.984959  193.010332"
      ]
     },
     "execution_count": 23,
     "metadata": {},
     "output_type": "execute_result"
    }
   ],
   "source": [
    "everyone_else = min_st[~min_st['is_signed'] & \n",
    "                       ~min_st['is_unsigned'] &\n",
    "                       (min_ABs['service_time']>6)]\n",
    "FAs = min_st[min_st['is_signed']]\n",
    "\n",
    "summarize_dfs(FAs, everyone_else, output_names=['FAs', 'Else'])"
   ]
  },
  {
   "cell_type": "code",
   "execution_count": 24,
   "metadata": {
    "scrolled": true
   },
   "outputs": [
    {
     "data": {
      "image/png": "[encoded data removed]",
      "text/plain": [
       "<Figure size 432x288 with 1 Axes>"
      ]
     },
     "metadata": {
      "needs_background": "light"
     },
     "output_type": "display_data"
    }
   ],
   "source": [
    "plot_histogram(FAs, everyone_else)"
   ]
  },
  {
   "cell_type": "markdown",
   "metadata": {},
   "source": [
    "Our groups look even more similar than before, but I'm going to run one last t-test to be sure."
   ]
  },
  {
   "cell_type": "code",
   "execution_count": 25,
   "metadata": {},
   "outputs": [
    {
     "data": {
      "text/plain": [
       "Ttest_indResult(statistic=-0.6254145324676649, pvalue=0.5328844087857453)"
      ]
     },
     "execution_count": 25,
     "metadata": {},
     "output_type": "execute_result"
    }
   ],
   "source": [
    "stats.ttest_ind(FAs['wRC+'], everyone_else['wRC+'], equal_var=False)"
   ]
  },
  {
   "cell_type": "markdown",
   "metadata": {},
   "source": [
    "We have only been running t-tests so far, but we can also try a modeling approach. A type of model called a regression will help us explore the relationship between free agency and performance at a deeper level.\n",
    "\n",
    "In the next cell, I put together a simple three factor multivariate regression. Regressions attempt to model the relationship between an independent variable and one or more dependent variables by solving for a linear equation.\n",
    "\n",
    "I am going to limit our dataset by:\n",
    "* Only including player seasons from 2012 to 2016\n",
    "* Excluding players with less than 6 years of service time\n",
    "* Excluding players without wRC+ in the previous year (since this will be one of our model factors)\n",
    "\n",
    "I am going to include the following independent variables:\n",
    "* Previous years wRC+: This will give the model a baseline for a given player's skill level\n",
    "* Number of Plate Appearances: We filtered on plate appearances in our data exploration, but here I am going to include it as a variable. I suspect that players who play more have higher wRC+, and as a result, including it in our model will help \"explain\" our independant variable.\n",
    "* Our \"is_signed\" Dummy Variable: This is factor we will pay the most attention to!\n",
    "\n",
    "Before we set up our regresion, we should be aware of an issue called multicollinearity. If any of our factors are correlated, our regression will not function as expected. I am going to create a correlation matrix of our independent variables in order to ensure that they are relatively uncorrelated."
   ]
  },
  {
   "cell_type": "code",
   "execution_count": 26,
   "metadata": {
    "scrolled": true
   },
   "outputs": [
    {
     "data": {
      "text/html": [
       "<div>\n",
       "<style scoped>\n",
       "    .dataframe tbody tr th:only-of-type {\n",
       "        vertical-align: middle;\n",
       "    }\n",
       "\n",
       "    .dataframe tbody tr th {\n",
       "        vertical-align: top;\n",
       "    }\n",
       "\n",
       "    .dataframe thead th {\n",
       "        text-align: right;\n",
       "    }\n",
       "</style>\n",
       "<table border=\"1\" class=\"dataframe\">\n",
       "  <thead>\n",
       "    <tr style=\"text-align: right;\">\n",
       "      <th></th>\n",
       "      <th>wRC+_t-1</th>\n",
       "      <th>PA</th>\n",
       "      <th>is_signed</th>\n",
       "    </tr>\n",
       "  </thead>\n",
       "  <tbody>\n",
       "    <tr>\n",
       "      <td>wRC+_t-1</td>\n",
       "      <td>1.000000</td>\n",
       "      <td>0.212298</td>\n",
       "      <td>-0.046365</td>\n",
       "    </tr>\n",
       "    <tr>\n",
       "      <td>PA</td>\n",
       "      <td>0.212298</td>\n",
       "      <td>1.000000</td>\n",
       "      <td>-0.039928</td>\n",
       "    </tr>\n",
       "    <tr>\n",
       "      <td>is_signed</td>\n",
       "      <td>-0.046365</td>\n",
       "      <td>-0.039928</td>\n",
       "      <td>1.000000</td>\n",
       "    </tr>\n",
       "  </tbody>\n",
       "</table>\n",
       "</div>"
      ],
      "text/plain": [
       "           wRC+_t-1        PA  is_signed\n",
       "wRC+_t-1   1.000000  0.212298  -0.046365\n",
       "PA         0.212298  1.000000  -0.039928\n",
       "is_signed -0.046365 -0.039928   1.000000"
      ]
     },
     "execution_count": 26,
     "metadata": {},
     "output_type": "execute_result"
    }
   ],
   "source": [
    "min_st[['wRC+_t-1', 'PA', 'is_signed']].corr()"
   ]
  },
  {
   "cell_type": "markdown",
   "metadata": {},
   "source": [
    "These results look good, but we can also check out \"Variance Inflation Factor\" (VIF) after we run our regression to confirm that we have no multicollinearity if necessary.\n",
    "\n",
    "Now for our regression:"
   ]
  },
  {
   "cell_type": "code",
   "execution_count": 27,
   "metadata": {},
   "outputs": [],
   "source": [
    "batting_df_reg = batting_df[(batting_df['yearID']>=2012) &\n",
    "                            (batting_df['yearID']<=2016) &\n",
    "                            (batting_df['service_time']>=6) &\n",
    "                            (~pd.isnull(batting_df['wRC+_t-1']))]"
   ]
  },
  {
   "cell_type": "code",
   "execution_count": 28,
   "metadata": {
    "scrolled": true
   },
   "outputs": [
    {
     "data": {
      "text/html": [
       "<table class=\"simpletable\">\n",
       "<caption>OLS Regression Results</caption>\n",
       "<tr>\n",
       "  <th>Dep. Variable:</th>          <td>wRC+</td>       <th>  R-squared:         </th> <td>   0.391</td>\n",
       "</tr>\n",
       "<tr>\n",
       "  <th>Model:</th>                   <td>OLS</td>       <th>  Adj. R-squared:    </th> <td>   0.389</td>\n",
       "</tr>\n",
       "<tr>\n",
       "  <th>Method:</th>             <td>Least Squares</td>  <th>  F-statistic:       </th> <td>   154.8</td>\n",
       "</tr>\n",
       "<tr>\n",
       "  <th>Date:</th>             <td>Sun, 03 Nov 2019</td> <th>  Prob (F-statistic):</th> <td>1.73e-77</td>\n",
       "</tr>\n",
       "<tr>\n",
       "  <th>Time:</th>                 <td>20:19:04</td>     <th>  Log-Likelihood:    </th> <td> -3432.5</td>\n",
       "</tr>\n",
       "<tr>\n",
       "  <th>No. Observations:</th>      <td>   727</td>      <th>  AIC:               </th> <td>   6873.</td>\n",
       "</tr>\n",
       "<tr>\n",
       "  <th>Df Residuals:</th>          <td>   723</td>      <th>  BIC:               </th> <td>   6891.</td>\n",
       "</tr>\n",
       "<tr>\n",
       "  <th>Df Model:</th>              <td>     3</td>      <th>                     </th>     <td> </td>   \n",
       "</tr>\n",
       "<tr>\n",
       "  <th>Covariance Type:</th>      <td>nonrobust</td>    <th>                     </th>     <td> </td>   \n",
       "</tr>\n",
       "</table>\n",
       "<table class=\"simpletable\">\n",
       "<tr>\n",
       "      <td></td>         <th>coef</th>     <th>std err</th>      <th>t</th>      <th>P>|t|</th>  <th>[0.025</th>    <th>0.975]</th>  \n",
       "</tr>\n",
       "<tr>\n",
       "  <th>const</th>     <td>   24.9285</td> <td>    4.454</td> <td>    5.597</td> <td> 0.000</td> <td>   16.185</td> <td>   33.672</td>\n",
       "</tr>\n",
       "<tr>\n",
       "  <th>wRC+_t-1</th>  <td>    0.3256</td> <td>    0.040</td> <td>    8.061</td> <td> 0.000</td> <td>    0.246</td> <td>    0.405</td>\n",
       "</tr>\n",
       "<tr>\n",
       "  <th>PA</th>        <td>    0.0875</td> <td>    0.006</td> <td>   15.054</td> <td> 0.000</td> <td>    0.076</td> <td>    0.099</td>\n",
       "</tr>\n",
       "<tr>\n",
       "  <th>is_signed</th> <td>    2.8251</td> <td>    2.224</td> <td>    1.270</td> <td> 0.204</td> <td>   -1.541</td> <td>    7.192</td>\n",
       "</tr>\n",
       "</table>\n",
       "<table class=\"simpletable\">\n",
       "<tr>\n",
       "  <th>Omnibus:</th>       <td>276.180</td> <th>  Durbin-Watson:     </th> <td>   1.984</td>\n",
       "</tr>\n",
       "<tr>\n",
       "  <th>Prob(Omnibus):</th> <td> 0.000</td>  <th>  Jarque-Bera (JB):  </th> <td>2694.943</td>\n",
       "</tr>\n",
       "<tr>\n",
       "  <th>Skew:</th>          <td>-1.423</td>  <th>  Prob(JB):          </th> <td>    0.00</td>\n",
       "</tr>\n",
       "<tr>\n",
       "  <th>Kurtosis:</th>      <td>11.993</td>  <th>  Cond. No.          </th> <td>2.17e+03</td>\n",
       "</tr>\n",
       "</table><br/><br/>Warnings:<br/>[1] Standard Errors assume that the covariance matrix of the errors is correctly specified.<br/>[2] The condition number is large, 2.17e+03. This might indicate that there are<br/>strong multicollinearity or other numerical problems."
      ],
      "text/plain": [
       "<class 'statsmodels.iolib.summary.Summary'>\n",
       "\"\"\"\n",
       "                            OLS Regression Results                            \n",
       "==============================================================================\n",
       "Dep. Variable:                   wRC+   R-squared:                       0.391\n",
       "Model:                            OLS   Adj. R-squared:                  0.389\n",
       "Method:                 Least Squares   F-statistic:                     154.8\n",
       "Date:                Sun, 03 Nov 2019   Prob (F-statistic):           1.73e-77\n",
       "Time:                        20:19:04   Log-Likelihood:                -3432.5\n",
       "No. Observations:                 727   AIC:                             6873.\n",
       "Df Residuals:                     723   BIC:                             6891.\n",
       "Df Model:                           3                                         \n",
       "Covariance Type:            nonrobust                                         \n",
       "==============================================================================\n",
       "                 coef    std err          t      P>|t|      [0.025      0.975]\n",
       "------------------------------------------------------------------------------\n",
       "const         24.9285      4.454      5.597      0.000      16.185      33.672\n",
       "wRC+_t-1       0.3256      0.040      8.061      0.000       0.246       0.405\n",
       "PA             0.0875      0.006     15.054      0.000       0.076       0.099\n",
       "is_signed      2.8251      2.224      1.270      0.204      -1.541       7.192\n",
       "==============================================================================\n",
       "Omnibus:                      276.180   Durbin-Watson:                   1.984\n",
       "Prob(Omnibus):                  0.000   Jarque-Bera (JB):             2694.943\n",
       "Skew:                          -1.423   Prob(JB):                         0.00\n",
       "Kurtosis:                      11.993   Cond. No.                     2.17e+03\n",
       "==============================================================================\n",
       "\n",
       "Warnings:\n",
       "[1] Standard Errors assume that the covariance matrix of the errors is correctly specified.\n",
       "[2] The condition number is large, 2.17e+03. This might indicate that there are\n",
       "strong multicollinearity or other numerical problems.\n",
       "\"\"\""
      ]
     },
     "execution_count": 28,
     "metadata": {},
     "output_type": "execute_result"
    }
   ],
   "source": [
    "X = batting_df_reg[['wRC+_t-1', 'PA', 'is_signed']]\n",
    "y = batting_df_reg['wRC+']\n",
    "X = sm.add_constant(X)\n",
    "est = sm.OLS(y.astype(float), X.astype(float)).fit()\n",
    "est.summary()"
   ]
  },
  {
   "cell_type": "markdown",
   "metadata": {},
   "source": [
    "That's a lot of data! First lets look at our R-squared. We can think of R-squared as the ratio of explained variance to total variance. More simply, an R-squared of 0.9 means that 90% of the dependent variable is explained by our independent variables.\n",
    "\n",
    "Our model has an R-square of only 0.391. That's not up to snuff. It does not necessarily mean our model is bad&#151;it could mean that our model is incomplete and that there might be other independent variables that could explain the wRC+ data.\n",
    "\n",
    "Scroll down, and let's look at the table of our factors. All three factors have a positive relationship to wRC+ as indicated by the \"coef\" column. For example, we can expect a 0.0875 wRC+ bump for each plate appearance a player has. Here, is_signed looks good, because it's eigenvalue (the \"coef\" column) is 2.83. This group of free agents experienced a 2.83 bump in wRC+.\n",
    "\n",
    "While this might inspire some optimism, the \"P>|t|\" column throws cold water on the alternative hypothesis that impending free agents play better. This column contains two-tailed p-values. A p-value above 0.05 means that the factor's relationship to wRC+ is not statistically signigicant. Previous wRC+ and plate appearances each have p-values lower than 0.05, indicating that both eigenvalues are statistifcally signicant. However, is_signed p-value is 0.204. We cannot conclude that is_signed has a strong relationship to wRC+.\n",
    "\n",
    "In conclusion, we cannot say players play better in contract years. Still, more research and data might help us build a model that better predicts wRC+. For example, I made a big assumption about retirements, and we do not account for injuries. \n",
    "\n",
    "In the future, I'd like to collect complete service time data. In this analysis I only use it as a dummy variable (True or False) instead of a continuous one (e.g. number of years). I suspect we could improve our model if we used a continous variable as one of our factors."
   ]
  }
 ],
 "metadata": {
  "kernelspec": {
   "display_name": "Python 3",
   "language": "python",
   "name": "python3"
  },
  "language_info": {
   "codemirror_mode": {
    "name": "ipython",
    "version": 3
   },
   "file_extension": ".py",
   "mimetype": "text/x-python",
   "name": "python",
   "nbconvert_exporter": "python",
   "pygments_lexer": "ipython3",
   "version": "3.7.4"
  }
 },
 "nbformat": 4,
 "nbformat_minor": 2
}
